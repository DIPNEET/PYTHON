{
 "metadata": {
  "language_info": {
   "codemirror_mode": {
    "name": "ipython",
    "version": 3
   },
   "file_extension": ".py",
   "mimetype": "text/x-python",
   "name": "python",
   "nbconvert_exporter": "python",
   "pygments_lexer": "ipython3",
   "version": "3.7.6-final"
  },
  "orig_nbformat": 2,
  "kernelspec": {
   "name": "python3",
   "display_name": "Python 3",
   "language": "python"
  }
 },
 "nbformat": 4,
 "nbformat_minor": 2,
 "cells": [
  {
   "cell_type": "code",
   "execution_count": 1,
   "metadata": {},
   "outputs": [],
   "source": [
    "# Basics\n",
    "\n",
    "# a=10    #integer(numeric)\n",
    "# b=10.5  #floating(numeric)\n",
    "# c='R'   #character\n",
    "# d=\"Reyaansh\" #string\n",
    "# e=False  #boolean \n",
    "# f=0  #undefined\n",
    "\n",
    "# a,b,c,d,e=10,10.5,'R',\"reyaansh\",True\n",
    "\n",
    "# print(a,b,c,d,e)\n",
    "\n",
    "# a=10\n",
    "# if a>3 and a<7:\n",
    "#     print(\"R\")\n",
    "# elif a>7:\n",
    "#     print(\"s\")    \n",
    "# else:\n",
    "#      print(\"J\")   \n",
    "\n",
    "# range(start,stop,stepSize) , default step is 1 , stop is not included\n",
    "# for i in range(10,0,-1):\n",
    "#     print(i)\n",
    "\n",
    "\n"
   ]
  },
  {
   "cell_type": "code",
   "execution_count": 3,
   "metadata": {},
   "outputs": [
    {
     "output_type": "stream",
     "name": "stdout",
     "text": [
      "23\n65\n12\n87\n9\n"
     ]
    }
   ],
   "source": [
    "#list in python is like an array  indexing starts with 0\n",
    "b=[23,65,12,87,9]\n",
    "\n",
    "#print(b)\n",
    "for i in b:\n",
    "    print(i)"
   ]
  },
  {
   "cell_type": "code",
   "execution_count": 5,
   "metadata": {},
   "outputs": [
    {
     "output_type": "stream",
     "name": "stdout",
     "text": [
      "0\n1\n2\n3\n4\n"
     ]
    }
   ],
   "source": [
    "n=0\n",
    "while n<5:\n",
    "    print(n)\n",
    "    n+=1 "
   ]
  },
  {
   "cell_type": "code",
   "execution_count": 10,
   "metadata": {},
   "outputs": [],
   "source": [
    "#repeat until\n",
    "  "
   ]
  },
  {
   "cell_type": "code",
   "execution_count": 13,
   "metadata": {},
   "outputs": [],
   "source": [
    "def sum(a,b):\n",
    "    c=a+b\n",
    "    print(c)\n"
   ]
  },
  {
   "cell_type": "code",
   "execution_count": 14,
   "metadata": {},
   "outputs": [
    {
     "output_type": "stream",
     "name": "stdout",
     "text": [
      "160\n"
     ]
    }
   ],
   "source": [
    "sum(90,70)"
   ]
  },
  {
   "cell_type": "code",
   "execution_count": null,
   "metadata": {},
   "outputs": [],
   "source": [
    "class A:\n",
    "    __init__(self):\n",
    "\n",
    "\n",
    "    sum():\n",
    "    \n"
   ]
  }
 ]
}